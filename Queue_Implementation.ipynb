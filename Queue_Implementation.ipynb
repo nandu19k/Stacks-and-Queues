{
  "nbformat": 4,
  "nbformat_minor": 0,
  "metadata": {
    "colab": {
      "name": "Queue Implementation.ipynb",
      "provenance": []
    },
    "kernelspec": {
      "name": "python3",
      "display_name": "Python 3"
    }
  },
  "cells": [
    {
      "cell_type": "code",
      "metadata": {
        "id": "0pu7dW4hvqYR"
      },
      "source": [
        "from collections import deque\n",
        "queue = deque()"
      ],
      "execution_count": 1,
      "outputs": []
    },
    {
      "cell_type": "code",
      "metadata": {
        "id": "njEkL-7Uvx9Q",
        "outputId": "eb7316f8-045e-4652-9027-4752e29cfc99",
        "colab": {
          "base_uri": "https://localhost:8080/"
        }
      },
      "source": [
        "dir(deque)"
      ],
      "execution_count": 2,
      "outputs": [
        {
          "output_type": "execute_result",
          "data": {
            "text/plain": [
              "['__add__',\n",
              " '__bool__',\n",
              " '__class__',\n",
              " '__contains__',\n",
              " '__copy__',\n",
              " '__delattr__',\n",
              " '__delitem__',\n",
              " '__dir__',\n",
              " '__doc__',\n",
              " '__eq__',\n",
              " '__format__',\n",
              " '__ge__',\n",
              " '__getattribute__',\n",
              " '__getitem__',\n",
              " '__gt__',\n",
              " '__hash__',\n",
              " '__iadd__',\n",
              " '__imul__',\n",
              " '__init__',\n",
              " '__init_subclass__',\n",
              " '__iter__',\n",
              " '__le__',\n",
              " '__len__',\n",
              " '__lt__',\n",
              " '__mul__',\n",
              " '__ne__',\n",
              " '__new__',\n",
              " '__reduce__',\n",
              " '__reduce_ex__',\n",
              " '__repr__',\n",
              " '__reversed__',\n",
              " '__rmul__',\n",
              " '__setattr__',\n",
              " '__setitem__',\n",
              " '__sizeof__',\n",
              " '__str__',\n",
              " '__subclasshook__',\n",
              " 'append',\n",
              " 'appendleft',\n",
              " 'clear',\n",
              " 'copy',\n",
              " 'count',\n",
              " 'extend',\n",
              " 'extendleft',\n",
              " 'index',\n",
              " 'insert',\n",
              " 'maxlen',\n",
              " 'pop',\n",
              " 'popleft',\n",
              " 'remove',\n",
              " 'reverse',\n",
              " 'rotate']"
            ]
          },
          "metadata": {
            "tags": []
          },
          "execution_count": 2
        }
      ]
    },
    {
      "cell_type": "code",
      "metadata": {
        "id": "hGLAwx-Gv1pQ"
      },
      "source": [
        "queue.appendleft(1)\n",
        "queue.appendleft(6)\n",
        "queue.appendleft(2)\n",
        "queue.appendleft(8)\n",
        "queue.appendleft(9)\n"
      ],
      "execution_count": 3,
      "outputs": []
    },
    {
      "cell_type": "code",
      "metadata": {
        "id": "ydWWZCOhv_Et",
        "outputId": "cbcb8ad0-3e5c-4575-ea87-e0f027226dad",
        "colab": {
          "base_uri": "https://localhost:8080/"
        }
      },
      "source": [
        "queue"
      ],
      "execution_count": 4,
      "outputs": [
        {
          "output_type": "execute_result",
          "data": {
            "text/plain": [
              "deque([9, 8, 2, 6, 1])"
            ]
          },
          "metadata": {
            "tags": []
          },
          "execution_count": 4
        }
      ]
    },
    {
      "cell_type": "code",
      "metadata": {
        "id": "AbZRhnWJwBUI",
        "outputId": "3071c3fd-4979-4a28-87aa-669dba021719",
        "colab": {
          "base_uri": "https://localhost:8080/"
        }
      },
      "source": [
        "queue.pop()"
      ],
      "execution_count": 5,
      "outputs": [
        {
          "output_type": "execute_result",
          "data": {
            "text/plain": [
              "1"
            ]
          },
          "metadata": {
            "tags": []
          },
          "execution_count": 5
        }
      ]
    },
    {
      "cell_type": "code",
      "metadata": {
        "id": "WVFSGjtgwDUC",
        "outputId": "7fac84e0-5396-44e2-c3cd-5cfb04bfddfb",
        "colab": {
          "base_uri": "https://localhost:8080/"
        }
      },
      "source": [
        "queue[-1]"
      ],
      "execution_count": 6,
      "outputs": [
        {
          "output_type": "execute_result",
          "data": {
            "text/plain": [
              "6"
            ]
          },
          "metadata": {
            "tags": []
          },
          "execution_count": 6
        }
      ]
    },
    {
      "cell_type": "code",
      "metadata": {
        "id": "QEgOoSfyzUKe"
      },
      "source": [
        "class Queue:\n",
        "  def __init__(self):\n",
        "    self.container = deque()\n",
        "\n",
        "  def enqueue(self , data):\n",
        "    return self.container.appendleft(data)\n",
        "\n",
        "  def dequeue(self):\n",
        "    return self.container.pop()\n",
        "\n",
        "  def front(self):\n",
        "    return self.container[-1]\n",
        "\n",
        "  def length(self):\n",
        "    return len(self.container)\n",
        "\n",
        "  def is_empty(self):\n",
        "    return len(self.container) == 0"
      ],
      "execution_count": 7,
      "outputs": []
    },
    {
      "cell_type": "code",
      "metadata": {
        "id": "faGRHPx20Sl_"
      },
      "source": [
        "queue = Queue()\n",
        "queue.enqueue(3)"
      ],
      "execution_count": 8,
      "outputs": []
    },
    {
      "cell_type": "code",
      "metadata": {
        "id": "eXBFmLRG1K51",
        "outputId": "cf2547fb-82b6-4eea-a643-d22603a93628",
        "colab": {
          "base_uri": "https://localhost:8080/"
        }
      },
      "source": [
        "queue.front()"
      ],
      "execution_count": 9,
      "outputs": [
        {
          "output_type": "execute_result",
          "data": {
            "text/plain": [
              "3"
            ]
          },
          "metadata": {
            "tags": []
          },
          "execution_count": 9
        }
      ]
    },
    {
      "cell_type": "code",
      "metadata": {
        "id": "jDqTJXho15ax",
        "outputId": "85d00f22-c68d-484a-931b-882b279ccac0",
        "colab": {
          "base_uri": "https://localhost:8080/"
        }
      },
      "source": [
        "queue.dequeue()"
      ],
      "execution_count": 10,
      "outputs": [
        {
          "output_type": "execute_result",
          "data": {
            "text/plain": [
              "3"
            ]
          },
          "metadata": {
            "tags": []
          },
          "execution_count": 10
        }
      ]
    },
    {
      "cell_type": "code",
      "metadata": {
        "id": "z41yLbRF1A2_",
        "outputId": "9f53d732-d17e-42d7-feef-e403a69a7d26",
        "colab": {
          "base_uri": "https://localhost:8080/"
        }
      },
      "source": [
        "queue.is_empty()"
      ],
      "execution_count": 11,
      "outputs": [
        {
          "output_type": "execute_result",
          "data": {
            "text/plain": [
              "True"
            ]
          },
          "metadata": {
            "tags": []
          },
          "execution_count": 11
        }
      ]
    }
  ]
}
{
  "nbformat": 4,
  "nbformat_minor": 0,
  "metadata": {
    "colab": {
      "name": "Min Stack.ipynb",
      "provenance": []
    },
    "kernelspec": {
      "name": "python3",
      "display_name": "Python 3"
    }
  },
  "cells": [
    {
      "cell_type": "markdown",
      "metadata": {
        "id": "sUjFYK5o43Cq"
      },
      "source": [
        "Problem Link: https://leetcode.com/problems/min-stack/"
      ]
    },
    {
      "cell_type": "markdown",
      "metadata": {
        "id": "7NYNf3DpCYqB"
      },
      "source": [
        "Method 1 : Time Complexity O(n)"
      ]
    },
    {
      "cell_type": "code",
      "metadata": {
        "id": "WJIhoB5b40IL"
      },
      "source": [
        "from collections import deque"
      ],
      "execution_count": 1,
      "outputs": []
    },
    {
      "cell_type": "code",
      "metadata": {
        "id": "1lj147LZ5Y3H",
        "outputId": "2f2efe9b-ac6b-4f92-efc1-1ebbba3b9da4",
        "colab": {
          "base_uri": "https://localhost:8080/"
        }
      },
      "source": [
        "dir(deque)"
      ],
      "execution_count": 2,
      "outputs": [
        {
          "output_type": "execute_result",
          "data": {
            "text/plain": [
              "['__add__',\n",
              " '__bool__',\n",
              " '__class__',\n",
              " '__contains__',\n",
              " '__copy__',\n",
              " '__delattr__',\n",
              " '__delitem__',\n",
              " '__dir__',\n",
              " '__doc__',\n",
              " '__eq__',\n",
              " '__format__',\n",
              " '__ge__',\n",
              " '__getattribute__',\n",
              " '__getitem__',\n",
              " '__gt__',\n",
              " '__hash__',\n",
              " '__iadd__',\n",
              " '__imul__',\n",
              " '__init__',\n",
              " '__init_subclass__',\n",
              " '__iter__',\n",
              " '__le__',\n",
              " '__len__',\n",
              " '__lt__',\n",
              " '__mul__',\n",
              " '__ne__',\n",
              " '__new__',\n",
              " '__reduce__',\n",
              " '__reduce_ex__',\n",
              " '__repr__',\n",
              " '__reversed__',\n",
              " '__rmul__',\n",
              " '__setattr__',\n",
              " '__setitem__',\n",
              " '__sizeof__',\n",
              " '__str__',\n",
              " '__subclasshook__',\n",
              " 'append',\n",
              " 'appendleft',\n",
              " 'clear',\n",
              " 'copy',\n",
              " 'count',\n",
              " 'extend',\n",
              " 'extendleft',\n",
              " 'index',\n",
              " 'insert',\n",
              " 'maxlen',\n",
              " 'pop',\n",
              " 'popleft',\n",
              " 'remove',\n",
              " 'reverse',\n",
              " 'rotate']"
            ]
          },
          "metadata": {
            "tags": []
          },
          "execution_count": 2
        }
      ]
    },
    {
      "cell_type": "code",
      "metadata": {
        "id": "Z7dACRHb5B4P"
      },
      "source": [
        "class Stack:\n",
        "  def __init__(self):\n",
        "    self.container = deque()\n",
        "\n",
        "  def push(self , data):\n",
        "    return self.container.append(data)\n",
        "  \n",
        "  def pop(self):\n",
        "    return self.container.pop()\n",
        "\n",
        "  def top(self):\n",
        "    return self.container[-1]\n",
        "\n",
        "  def min(self):\n",
        "    min = self.container[0]\n",
        "    for i in range(1 , len(self.container)):\n",
        "      if min >self.container[i]:\n",
        "        min = self.container[i]\n",
        "    return min\n"
      ],
      "execution_count": 3,
      "outputs": []
    },
    {
      "cell_type": "code",
      "metadata": {
        "id": "tztorEe47Asi",
        "outputId": "b55d6f1c-0d86-4586-cab1-e602f9359ab5",
        "colab": {
          "base_uri": "https://localhost:8080/"
        }
      },
      "source": [
        "stack = Stack()\n",
        "stack.push(1)\n",
        "stack.push(2)\n",
        "stack.push(5)\n",
        "stack.push(0)\n",
        "stack.top()\n",
        "\n"
      ],
      "execution_count": 4,
      "outputs": [
        {
          "output_type": "execute_result",
          "data": {
            "text/plain": [
              "0"
            ]
          },
          "metadata": {
            "tags": []
          },
          "execution_count": 4
        }
      ]
    },
    {
      "cell_type": "code",
      "metadata": {
        "id": "WPLTLJCi7a2e",
        "outputId": "95fff567-9c8c-46b4-a8e9-4d9dee16b0b0",
        "colab": {
          "base_uri": "https://localhost:8080/"
        }
      },
      "source": [
        "stack.min()"
      ],
      "execution_count": 5,
      "outputs": [
        {
          "output_type": "execute_result",
          "data": {
            "text/plain": [
              "0"
            ]
          },
          "metadata": {
            "tags": []
          },
          "execution_count": 5
        }
      ]
    },
    {
      "cell_type": "code",
      "metadata": {
        "id": "uNaGLXBa7h0A",
        "outputId": "8b80a157-6eab-4e62-bd68-16e3cd2b16b5",
        "colab": {
          "base_uri": "https://localhost:8080/"
        }
      },
      "source": [
        "stack.pop()"
      ],
      "execution_count": 6,
      "outputs": [
        {
          "output_type": "execute_result",
          "data": {
            "text/plain": [
              "0"
            ]
          },
          "metadata": {
            "tags": []
          },
          "execution_count": 6
        }
      ]
    },
    {
      "cell_type": "code",
      "metadata": {
        "id": "9cYGwMyc7k7k",
        "outputId": "d51bb420-f3f8-4cb6-9cfa-b50173846277",
        "colab": {
          "base_uri": "https://localhost:8080/"
        }
      },
      "source": [
        "stack.min()"
      ],
      "execution_count": 7,
      "outputs": [
        {
          "output_type": "execute_result",
          "data": {
            "text/plain": [
              "1"
            ]
          },
          "metadata": {
            "tags": []
          },
          "execution_count": 7
        }
      ]
    },
    {
      "cell_type": "markdown",
      "metadata": {
        "id": "6wr4TZVeCfg-"
      },
      "source": [
        "Method 2 : Time Complexity O(1)"
      ]
    },
    {
      "cell_type": "code",
      "metadata": {
        "id": "NBBsDWg7CfMa"
      },
      "source": [
        "class Stack:\n",
        "  def __init__(self):\n",
        "    self.stack = []\n",
        "    self.min = []\n",
        "\n",
        "  def push(self , data):\n",
        "    self.stack.append(data)\n",
        "    if (len(self.min) == 0):\n",
        "      self.min.append(data)\n",
        "    else:\n",
        "      if self.min[len(self.min)-1] > data:\n",
        "        self.min.append(data)\n",
        "      else:\n",
        "        self.min.append(self.min[len(self.min)-1])\n",
        "\n",
        "  def pop(self):\n",
        "    self.min.pop()\n",
        "    return self.stack.pop()\n",
        "\n",
        "  def top(self):\n",
        "    return self.stack[-1]\n",
        "\n",
        "  def getMin(self):\n",
        "    return self.min[-1]"
      ],
      "execution_count": 8,
      "outputs": []
    },
    {
      "cell_type": "code",
      "metadata": {
        "id": "cEQH002rEP8k",
        "outputId": "954756a1-9d64-4db1-96e8-5c500d28cb33",
        "colab": {
          "base_uri": "https://localhost:8080/"
        }
      },
      "source": [
        "stack = Stack()\n",
        "stack.push(1)\n",
        "stack.push(2)\n",
        "stack.push(5)\n",
        "stack.push(0)\n",
        "stack.top()\n",
        "\n"
      ],
      "execution_count": 9,
      "outputs": [
        {
          "output_type": "execute_result",
          "data": {
            "text/plain": [
              "0"
            ]
          },
          "metadata": {
            "tags": []
          },
          "execution_count": 9
        }
      ]
    },
    {
      "cell_type": "code",
      "metadata": {
        "id": "mJe3jYy_ET47",
        "outputId": "f89c4bbf-6005-4f41-a6ff-ab5f78b1941e",
        "colab": {
          "base_uri": "https://localhost:8080/"
        }
      },
      "source": [
        "stack.getMin()"
      ],
      "execution_count": 10,
      "outputs": [
        {
          "output_type": "execute_result",
          "data": {
            "text/plain": [
              "0"
            ]
          },
          "metadata": {
            "tags": []
          },
          "execution_count": 10
        }
      ]
    },
    {
      "cell_type": "code",
      "metadata": {
        "id": "5Pe1XdQvEY3V",
        "outputId": "e362dac2-4e31-45cd-aaf3-bbf8df40e83a",
        "colab": {
          "base_uri": "https://localhost:8080/"
        }
      },
      "source": [
        "stack.pop()\n",
        "stack.getMin()"
      ],
      "execution_count": 11,
      "outputs": [
        {
          "output_type": "execute_result",
          "data": {
            "text/plain": [
              "1"
            ]
          },
          "metadata": {
            "tags": []
          },
          "execution_count": 11
        }
      ]
    }
  ]
}
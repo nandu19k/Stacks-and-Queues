{
  "nbformat": 4,
  "nbformat_minor": 0,
  "metadata": {
    "colab": {
      "name": "Valid Paranthesis.ipynb",
      "provenance": []
    },
    "kernelspec": {
      "name": "python3",
      "display_name": "Python 3"
    }
  },
  "cells": [
    {
      "cell_type": "markdown",
      "metadata": {
        "id": "5MJLuE7EE280"
      },
      "source": [
        "Problem Link: https://leetcode.com/problems/valid-parentheses/"
      ]
    },
    {
      "cell_type": "code",
      "metadata": {
        "id": "2yiy0uwaFamk"
      },
      "source": [
        "from collections import deque"
      ],
      "execution_count": 1,
      "outputs": []
    },
    {
      "cell_type": "code",
      "metadata": {
        "id": "I1pqIKpKE1jI"
      },
      "source": [
        "class Stack:\n",
        "  def __init__(self):\n",
        "    self.container = deque()\n",
        "  \n",
        "  def push(self, data):\n",
        "    self.container.append(data)\n",
        "\n",
        "  def pop(self):\n",
        "    return self.container.pop()\n",
        "  \n",
        "  def peek(self):\n",
        "    return self.container[-1]\n",
        "\n",
        "  def length(self):\n",
        "    return len(self.container)\n",
        "  \n",
        "  def is_empty(self):\n",
        "    return len(self.container) == 0\n"
      ],
      "execution_count": 2,
      "outputs": []
    },
    {
      "cell_type": "code",
      "metadata": {
        "id": "xoDgrX5CHJc7"
      },
      "source": [
        "def is_match(ch1 , ch2):\n",
        "  match_dict = {')':'(' , \n",
        "                ']':'[',\n",
        "                '}':'{'\n",
        "                }\n",
        "  return match_dict[ch1] == ch2\n",
        "\n",
        "\n",
        "def valid(s):\n",
        "  stack = Stack()\n",
        "  for ch in s:\n",
        "    if ch == '{' or ch == '[' or ch == '{' :\n",
        "      stack.push(ch)\n",
        "    if ch == '}' or ch == ']' or ch == '}':\n",
        "      if stack.is_empty():\n",
        "        return False\n",
        "      if not is_match(ch , stack.pop()):\n",
        "        return False\n",
        "\n",
        "  return stack.is_empty()"
      ],
      "execution_count": 3,
      "outputs": []
    },
    {
      "cell_type": "code",
      "metadata": {
        "id": "f3IOM7pwJVso",
        "outputId": "1e795b0d-4c02-40be-adf6-b107b9c1edba",
        "colab": {
          "base_uri": "https://localhost:8080/"
        }
      },
      "source": [
        "if __name__ == '__main__':\n",
        "  print(valid(\"({a+b})\"))\n",
        "  print(valid(\"))((a+b}{\"))\n",
        "  print(valid(\"((a+b))\"))\n",
        "  print(valid(\"((a+g))\"))\n",
        "  print(valid(\"))\"))\n",
        "  print(valid(\"[a+b]*(x+2y)*{gg+kk}\"))"
      ],
      "execution_count": 4,
      "outputs": [
        {
          "output_type": "stream",
          "text": [
            "True\n",
            "False\n",
            "True\n",
            "True\n",
            "True\n",
            "True\n"
          ],
          "name": "stdout"
        }
      ]
    }
  ]
}